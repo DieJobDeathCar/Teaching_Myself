{
 "cells": [
  {
   "cell_type": "code",
   "execution_count": null,
   "metadata": {},
   "outputs": [],
   "source": [
    "\n",
    "#breadth-first search, using a queue      \n",
    "def bfs(graph, start_vertex, target_value):\n",
    "  path = [start_vertex]\n",
    "  vertex_and_path = [start_vertex, path]\n",
    "  bfs_queue = [vertex_and_path]\n",
    "  visited = set()\n",
    "  while bfs_queue:\n",
    "    current_vertex, path = bfs_queue.pop(0)\n",
    "    visited.add(current_vertex)\n",
    "    for neighbor in graph[current_vertex]:\n",
    "      if neighbor not in visited:\n",
    "        if neighbor is target_value:\n",
    "          return path + [neighbor]\n",
    "        else:\n",
    "          bfs_queue.append([neighbor, path + [neighbor]])\n",
    "\n",
    "some_hazardous_graph = {\n",
    "    'lava': set(['sharks', 'piranhas']),\n",
    "    'sharks': set(['piranhas', 'bees']),\n",
    "    'piranhas': set(['bees']),\n",
    "    'bees': set(['lasers']),\n",
    "    'lasers': set([])\n",
    "  }\n",
    "\n",
    "print(bfs(some_hazardous_graph, 'sharks', 'bees'))"
   ]
  },
  {
   "cell_type": "code",
   "execution_count": null,
   "metadata": {},
   "outputs": [],
   "source": [
    "#depth-first search, using recursion\n",
    "def dfs(graph, current_vertex, target_value, visited = None):\n",
    "  if visited is None:\n",
    "    visited = []\n",
    "  visited.append(current_vertex)\n",
    "  if current_vertex is target_value:\n",
    "    return visited\n",
    "  \n",
    "  for neighbor in graph[current_vertex]:\n",
    "    if neighbor not in visited:\n",
    "      path = dfs(graph, neighbor, target_value, visited)\n",
    "      if path:\n",
    "        return path\n",
    "        \n",
    "print(dfs(some_hazardous_graph, 'sharks', 'bees'))"
   ]
  }
 ],
 "metadata": {
  "interpreter": {
   "hash": "f593be377f4347290754485ba3c8a41adefcef8ae2886d58d71c1fb563e6590c"
  },
  "kernelspec": {
   "display_name": "Python 3.10.2 64-bit",
   "language": "python",
   "name": "python3"
  },
  "language_info": {
   "name": "python",
   "version": "3.10.2"
  },
  "orig_nbformat": 4
 },
 "nbformat": 4,
 "nbformat_minor": 2
}
