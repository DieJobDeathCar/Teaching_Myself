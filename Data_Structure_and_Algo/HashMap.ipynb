{
 "cells": [
  {
   "cell_type": "markdown",
   "metadata": {},
   "source": [
    "HashMap basics"
   ]
  },
  {
   "cell_type": "code",
   "execution_count": null,
   "metadata": {},
   "outputs": [],
   "source": [
    "class HashMap:\n",
    "  def __init__(self, array_size):\n",
    "    self.array_size = array_size\n",
    "    self.array = [None for item in range(array_size)]\n",
    "\n",
    "  def hash(self, key, count_collisions=0):\n",
    "    key_bytes = key.encode()\n",
    "    hash_code = sum(key_bytes)\n",
    "    return hash_code + count_collisions\n",
    "\n",
    "  def compressor(self, hash_code):\n",
    "    return hash_code % self.array_size\n",
    "\n",
    "  def assign(self, key, value):\n",
    "    array_index = self.compressor(self.hash(key))\n",
    "    current_array_value = self.array[array_index]\n",
    "\n",
    "    if current_array_value is None:\n",
    "      self.array[array_index] = [key, value]\n",
    "      return\n",
    "\n",
    "    if current_array_value[0] == key:\n",
    "      self.array[array_index] = [key, value]\n",
    "      return\n",
    "\n",
    "    # Collision!\n",
    "\n",
    "    number_collisions = 1\n",
    "\n",
    "    while(current_array_value[0] != key):\n",
    "      new_hash_code = self.hash(key, number_collisions)\n",
    "      new_array_index = self.compressor(new_hash_code)\n",
    "      current_array_value = self.array[new_array_index]\n",
    "\n",
    "      if current_array_value is None:\n",
    "        self.array[new_array_index] = [key, value]\n",
    "        return\n",
    "\n",
    "      if current_array_value[0] == key:\n",
    "        self.array[new_array_index] = [key, value]\n",
    "        return\n",
    "\n",
    "      number_collisions += 1\n",
    "\n",
    "    return\n",
    "\n",
    "  def retrieve(self, key):\n",
    "    array_index = self.compressor(self.hash(key))\n",
    "    possible_return_value = self.array[array_index]\n",
    "\n",
    "    if possible_return_value is None:\n",
    "      return None\n",
    "\n",
    "    if possible_return_value[0] == key:\n",
    "      return possible_return_value[1]\n",
    "\n",
    "    retrieval_collisions = 1\n",
    "\n",
    "    while (possible_return_value != key):\n",
    "      new_hash_code = self.hash(key, retrieval_collisions)\n",
    "      retrieving_array_index = self.compressor(new_hash_code)\n",
    "      possible_return_value = self.array[retrieving_array_index]\n",
    "\n",
    "      if possible_return_value is None:\n",
    "        return None\n",
    "\n",
    "      if possible_return_value[0] == key:\n",
    "        return possible_return_value[1]\n",
    "\n",
    "      retrieval_collisions += 1\n",
    "\n",
    "    return\n"
   ]
  },
  {
   "cell_type": "markdown",
   "metadata": {},
   "source": [
    "Example inputs"
   ]
  },
  {
   "cell_type": "code",
   "execution_count": null,
   "metadata": {},
   "outputs": [],
   "source": [
    "hash_map = HashMap(15)\n",
    "hash_map.assign('gabbro','igneous')\n",
    "hash_map.assign('sandstone','sedimentary')\n",
    "hash_map.assign('gneiss','metamorphic')\n",
    "print(hash_map.retrieve('gabbro'))\n",
    "print(hash_map.retrieve('sandstone'))\n",
    "print(hash_map.retrieve('gneiss'))"
   ]
  }
 ],
 "metadata": {
  "interpreter": {
   "hash": "73c7822d59a7f19048bcb8d1d48edb56502e79c2df4b59ec3fbde37f04654ca5"
  },
  "kernelspec": {
   "display_name": "Python 3.9.6 64-bit",
   "language": "python",
   "name": "python3"
  },
  "language_info": {
   "name": "python",
   "version": "3.9.6"
  },
  "orig_nbformat": 4
 },
 "nbformat": 4,
 "nbformat_minor": 2
}
