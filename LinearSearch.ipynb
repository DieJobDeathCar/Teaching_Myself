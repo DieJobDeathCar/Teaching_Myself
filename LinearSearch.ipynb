{
 "cells": [
  {
   "cell_type": "markdown",
   "metadata": {},
   "source": [
    "Find maximum num in linear search"
   ]
  },
  {
   "cell_type": "code",
   "execution_count": null,
   "metadata": {},
   "outputs": [],
   "source": [
    "# Search list\n",
    "test_scores = [88, 93, 75, 100, 80, 67, 71, 92, 90, 83]\n",
    "\n",
    "#Linear Search Algorithm\n",
    "def linear_search(search_list):\n",
    "  maximum_score_index = None\n",
    "  for idx in range(len(search_list)):\n",
    "    if not maximum_score_index or search_list[idx] > search_list[maximum_score_index]:\n",
    "      maximum_score_index = idx\n",
    "  return maximum_score_index\n",
    "\n",
    "# Function call\n",
    "highest_score = linear_search(test_scores)\n",
    "\n",
    "#Prints out the highest score in the list\n",
    "print(highest_score)"
   ]
  },
  {
   "cell_type": "markdown",
   "metadata": {},
   "source": [
    "Linear search return index of search term"
   ]
  },
  {
   "cell_type": "code",
   "execution_count": null,
   "metadata": {},
   "outputs": [],
   "source": [
    "# A list of the ingredients for tuna sushi\n",
    "recipe = [\"nori\", \"tuna\", \"soy sauce\", \"sushi rice\"]\n",
    "target_ingredient = \"avocado\"\n",
    "\n",
    "def linear_search(search_list, target_value):\n",
    "  for idx in range(len(search_list)):\n",
    "    if search_list[idx] == target_value:\n",
    "      return idx\n",
    "  raise ValueError(\"{0} not in list\".format(target_value))\n",
    "\n",
    "print(linear_search(recipe, target_ingredient))"
   ]
  }
 ],
 "metadata": {
  "interpreter": {
   "hash": "73c7822d59a7f19048bcb8d1d48edb56502e79c2df4b59ec3fbde37f04654ca5"
  },
  "kernelspec": {
   "display_name": "Python 3.9.6 64-bit",
   "language": "python",
   "name": "python3"
  },
  "language_info": {
   "name": "python",
   "version": "3.9.6"
  },
  "orig_nbformat": 4
 },
 "nbformat": 4,
 "nbformat_minor": 2
}
