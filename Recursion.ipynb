{
 "cells": [
  {
   "cell_type": "markdown",
   "metadata": {},
   "source": [
    "Recursion templates"
   ]
  },
  {
   "cell_type": "markdown",
   "metadata": {},
   "source": [
    "Sum of all numbers smaller than n"
   ]
  },
  {
   "cell_type": "markdown",
   "metadata": {},
   "source": [
    "Base Case: the scenario when recursion ends\n",
    "Recursive steps: the recursive lines that performs the recursion"
   ]
  },
  {
   "cell_type": "code",
   "execution_count": null,
   "metadata": {},
   "outputs": [],
   "source": [
    "def sum_to_one(n):\n",
    "  if n == 1:\n",
    "    return n\n",
    "  print(\"Recursing with input: {0}\".format(n))\n",
    "  return n + sum_to_one(n - 1)\n",
    "\n",
    "# uncomment when you're ready to test\n",
    "print(sum_to_one(7))"
   ]
  },
  {
   "cell_type": "markdown",
   "metadata": {},
   "source": [
    "Product of all numbers small than n"
   ]
  },
  {
   "cell_type": "code",
   "execution_count": null,
   "metadata": {},
   "outputs": [],
   "source": [
    "def factorial(n):\n",
    "  if n <= 1:\n",
    "    return 1\n",
    "  else:\n",
    "    return n * factorial(n - 1)"
   ]
  },
  {
   "cell_type": "markdown",
   "metadata": {},
   "source": [
    "producing a list of all subsets of the values in a list"
   ]
  },
  {
   "cell_type": "code",
   "execution_count": null,
   "metadata": {},
   "outputs": [],
   "source": [
    "def power_set(my_list):\n",
    "    # base case: an empty list\n",
    "    if len(my_list) == 0:\n",
    "        return [[]]\n",
    "    # recursive step: subsets without first element\n",
    "    power_set_without_first = power_set(my_list[1:])\n",
    "    # subsets with first element\n",
    "    with_first = [ [my_list[0]] + rest for rest in power_set_without_first ]\n",
    "    # return combination of the two\n",
    "    return with_first + power_set_without_first\n",
    "  \n",
    "universities = ['MIT', 'UCLA', 'Stanford', 'NYU']\n",
    "power_set_of_universities = power_set(universities)\n",
    "\n",
    "for set in power_set_of_universities:\n",
    "  print(set)\n"
   ]
  },
  {
   "cell_type": "markdown",
   "metadata": {},
   "source": [
    "flatten nested lists into a single, spread out list"
   ]
  },
  {
   "cell_type": "code",
   "execution_count": null,
   "metadata": {},
   "outputs": [],
   "source": [
    "def flatten(my_list):\n",
    "  result = []\n",
    "  for el in my_list:\n",
    "    if isinstance(el, list):\n",
    "      print(\"list found!\")\n",
    "      flat_list = flatten(el)\n",
    "      result += flat_list\n",
    "    else:\n",
    "      result.append(el)\n",
    "  return result\n",
    "\n",
    "\n",
    "### reserve for testing...\n",
    "planets = ['mercury', 'venus', ['earth'], 'mars', [['jupiter', 'saturn']], 'uranus', ['neptune', 'pluto']]\n",
    "print(flatten(planets))"
   ]
  },
  {
   "cell_type": "markdown",
   "metadata": {},
   "source": [
    "Fibonacci - the next value is the sum of previous 2 values"
   ]
  },
  {
   "cell_type": "code",
   "execution_count": null,
   "metadata": {},
   "outputs": [],
   "source": [
    "# define the fibonacci() function below...\n",
    "\n",
    "def fibonacci(n):\n",
    "  # base cases\n",
    "  if n == 1:\n",
    "    return n\n",
    "  if n == 0:\n",
    "    return n\n",
    "  \n",
    "  # recursive step\n",
    "  print(\"Recursive call with {0} as input\".format(n))\n",
    "  return fibonacci(n - 1) + fibonacci(n - 2)\n",
    "\n",
    "\n",
    "fibonacci(5)\n",
    "# set the appropriate runtime:\n",
    "# 1, logN, N, N^2, 2^N, N!\n",
    "fibonacci_runtime = \"2^N\""
   ]
  },
  {
   "cell_type": "markdown",
   "metadata": {},
   "source": [
    "Recursive data tree structure, like a decision tree"
   ]
  },
  {
   "cell_type": "code",
   "execution_count": null,
   "metadata": {},
   "outputs": [],
   "source": [
    "def build_bst(my_list):\n",
    "  if len(my_list) == 0:\n",
    "    return \"No Child\"\n",
    "\n",
    "  middle_idx = len(my_list) // 2\n",
    "  middle_value = my_list[middle_idx]\n",
    "  \n",
    "  print(\"Middle index: {0}\".format(middle_idx))\n",
    "  print(\"Middle value: {0}\".format(middle_value))\n",
    "  \n",
    "  tree_node = {\"data\": middle_value}\n",
    "  tree_node[\"left_child\"] = build_bst(my_list[ : middle_idx])\n",
    "  tree_node[\"right_child\"] = build_bst(my_list[middle_idx + 1 : ])\n",
    "\n",
    "  return tree_node\n",
    "  \n",
    "sorted_list = [12, 13, 14, 15, 16]\n",
    "binary_search_tree = build_bst(sorted_list)\n",
    "print(binary_search_tree)\n",
    "\n",
    "# fill in the runtime as a string\n",
    "# 1, logN, N, N*logN, N^2, 2^N, N!\n",
    "runtime = \"N*logN\""
   ]
  }
 ],
 "metadata": {
  "interpreter": {
   "hash": "73c7822d59a7f19048bcb8d1d48edb56502e79c2df4b59ec3fbde37f04654ca5"
  },
  "kernelspec": {
   "display_name": "Python 3.9.6 64-bit",
   "language": "python",
   "name": "python3"
  },
  "language_info": {
   "name": "python",
   "version": "3.9.6"
  },
  "orig_nbformat": 4
 },
 "nbformat": 4,
 "nbformat_minor": 2
}
