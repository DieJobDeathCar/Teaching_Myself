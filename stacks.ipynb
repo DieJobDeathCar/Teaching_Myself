{
 "cells": [
  {
   "cell_type": "markdown",
   "metadata": {},
   "source": [
    "Stacks basics"
   ]
  },
  {
   "cell_type": "code",
   "execution_count": null,
   "metadata": {},
   "outputs": [],
   "source": [
    "from Nodes import Node\n",
    "\n",
    "class Stack:\n",
    "  def __init__(self, limit=1000):\n",
    "    self.top_item = None\n",
    "    self.size = 0\n",
    "    self.limit = limit\n",
    "  \n",
    "  def push(self, value):\n",
    "    if self.has_space():\n",
    "      item = Node(value)\n",
    "      item.set_next_node(self.top_item)\n",
    "      self.top_item = item\n",
    "      self.size += 1\n",
    "      print(\"Adding {} to the pizza stack!\".format(value))\n",
    "    else:\n",
    "      print(\"No room for {}!\".format(value))\n",
    "\n",
    "  def pop(self):\n",
    "    if not self.is_empty():\n",
    "      item_to_remove = self.top_item\n",
    "      self.top_item = item_to_remove.get_next_node()\n",
    "      self.size -= 1\n",
    "      print(\"Delivering \" + item_to_remove.get_value())\n",
    "      return item_to_remove.get_value()\n",
    "    print(\"All out of pizza.\")\n",
    "\n",
    "  def peek(self):\n",
    "    if not self.is_empty():\n",
    "      return self.top_item.get_value()\n",
    "    print(\"Nothing to see here!\")\n",
    "\n",
    "  def has_space(self):\n",
    "    return self.limit > self.size\n",
    "\n",
    "  def is_empty(self):\n",
    "    return self.size == 0\n",
    "  \n",
    "# Defining an empty pizza stack\n",
    "pizza_stack = Stack(6)\n",
    "# Adding pizzas as they are ready until we have \n",
    "pizza_stack.push(\"pizza #1\")\n",
    "pizza_stack.push(\"pizza #2\")\n",
    "pizza_stack.push(\"pizza #3\")\n",
    "pizza_stack.push(\"pizza #4\")\n",
    "pizza_stack.push(\"pizza #5\")\n",
    "pizza_stack.push(\"pizza #6\")\n",
    "\n",
    "# Uncomment the push() statement below:\n",
    "pizza_stack.push(\"pizza #7\")\n",
    "\n",
    "# Delivering pizzas from the top of the stack down\n",
    "print(\"The first pizza to deliver is \" + pizza_stack.peek())\n",
    "pizza_stack.pop()\n",
    "pizza_stack.pop()\n",
    "pizza_stack.pop()\n",
    "pizza_stack.pop()\n",
    "pizza_stack.pop()\n",
    "pizza_stack.pop()\n",
    "\n",
    "# Uncomment the pop() statement below:\n",
    "pizza_stack.pop()"
   ]
  }
 ],
 "metadata": {
  "interpreter": {
   "hash": "73c7822d59a7f19048bcb8d1d48edb56502e79c2df4b59ec3fbde37f04654ca5"
  },
  "kernelspec": {
   "display_name": "Python 3.9.6 64-bit",
   "language": "python",
   "name": "python3"
  },
  "language_info": {
   "name": "python",
   "version": "3.9.6"
  },
  "orig_nbformat": 4
 },
 "nbformat": 4,
 "nbformat_minor": 2
}
