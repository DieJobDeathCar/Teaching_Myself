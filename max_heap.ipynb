{
 "cells": [
  {
   "cell_type": "code",
   "execution_count": 4,
   "metadata": {},
   "outputs": [],
   "source": [
    "class MaxHeap:\n",
    "  def __init__(self):\n",
    "    self.heap_list = [None]\n",
    "    self.count = 0\n",
    "\n",
    "  # HEAP HELPER METHODS\n",
    "  # DO NOT CHANGE!\n",
    "  def parent_idx(self, idx):\n",
    "    return idx // 2\n",
    "\n",
    "  def left_child_idx(self, idx):\n",
    "    return idx * 2\n",
    "\n",
    "  def right_child_idx(self, idx):\n",
    "    return idx * 2 + 1\n",
    "\n",
    "  def child_present(self, idx):\n",
    "    return self.left_child_idx(idx) <= self.count\n",
    "\n",
    "  # END OF HEAP HELPER METHODS\n",
    "  \n",
    "  def add(self, element):\n",
    "    self.count += 1\n",
    "    print(\"Adding: {0} to {1}\".format(element, self.heap_list))\n",
    "    self.heap_list.append(element)\n",
    "    self.heapify_up()\n",
    "    \n",
    "  def heapify_up(self):\n",
    "    print(\"Heapifying up\")\n",
    "    idx = self.count\n",
    "    while self.parent_idx(idx) > 0:\n",
    "      child = self.heap_list[idx]\n",
    "      parent = self.heap_list[self.parent_idx(idx)]\n",
    "      if parent < child:\n",
    "        print(\"swapping {0} with {1}\".format(parent, child))\n",
    "        self.heap_list[idx] = parent\n",
    "        self.heap_list[self.parent_idx(idx)] = child\n",
    "      idx = self.parent_idx(idx)\n",
    "    print(\"Heap Restored {0}\".format(self.heap_list))\n",
    "\n",
    "  def retrieve_max(self):\n",
    "    if self.count == 0:\n",
    "      print(\"No items in heap\")\n",
    "      return None\n",
    "    max_value = self.heap_list[1]\n",
    "    print(\"Removing: {0} from {1}\".format(max_value, self.heap_list))\n",
    "    self.heap_list[1] = self.heap_list[self.count]\n",
    "    self.count -= 1\n",
    "    self.heap_list.pop()\n",
    "    print(\"Last element moved to first: {0}\".format(self.heap_list))    \n",
    "    self.heapify_down()\n",
    "    return max_value\n",
    "\n",
    "  def heapify_down(self):\n",
    "    idx = 1\n",
    "    while self.child_present(idx):\n",
    "      print(\"Heapifying down!\")\n",
    "      larger_child_idx = self.get_larger_child_idx(idx)\n",
    "      child = self.heap_list[larger_child_idx]\n",
    "      parent = self.heap_list[idx]\n",
    "      if parent < child:\n",
    "        self.heap_list[idx] = child\n",
    "        self.heap_list[larger_child_idx] = parent\n",
    "      idx = larger_child_idx\n",
    "    print(\"HEAP RESTORED! {0}\".format(self.heap_list))\n",
    "    print(\"\") \n",
    "\n",
    "  def get_larger_child_idx(self, idx):\n",
    "    if self.right_child_idx(idx) > self.count:\n",
    "      print(\"There is only a left child\")\n",
    "      return self.left_child_idx(idx)\n",
    "    else:\n",
    "      left_child = self.heap_list[self.left_child_idx(idx)]\n",
    "      right_child = self.heap_list[self.right_child_idx(idx)]\n",
    "      if left_child > right_child:\n",
    "        print(\"Left child \"+ str(left_child) + \" is larger than right child \" + str(right_child))\n",
    "        return self.left_child_idx(idx)\n",
    "      else:\n",
    "        print(\"Right child \" + str(right_child) + \" is larger than left child \" + str(left_child))\n",
    "        return self.right_child_idx(idx)"
   ]
  },
  {
   "cell_type": "markdown",
   "metadata": {},
   "source": [
    "script example below:"
   ]
  },
  {
   "cell_type": "code",
   "execution_count": 10,
   "metadata": {},
   "outputs": [
    {
     "name": "stdout",
     "output_type": "stream",
     "text": [
      "Adding: 99 to [None]\n",
      "Heapifying up\n",
      "Heap Restored [None, 99]\n",
      "Adding: 22 to [None, 99]\n",
      "Heapifying up\n",
      "Heap Restored [None, 99, 22]\n",
      "Adding: 61 to [None, 99, 22]\n",
      "Heapifying up\n",
      "Heap Restored [None, 99, 22, 61]\n",
      "Adding: 10 to [None, 99, 22, 61]\n",
      "Heapifying up\n",
      "Heap Restored [None, 99, 22, 61, 10]\n",
      "Adding: 21 to [None, 99, 22, 61, 10]\n",
      "Heapifying up\n",
      "Heap Restored [None, 99, 22, 61, 10, 21]\n",
      "Adding: 13 to [None, 99, 22, 61, 10, 21]\n",
      "Heapifying up\n",
      "Heap Restored [None, 99, 22, 61, 10, 21, 13]\n",
      "Adding: 23 to [None, 99, 22, 61, 10, 21, 13]\n",
      "Heapifying up\n",
      "Heap Restored [None, 99, 22, 61, 10, 21, 13, 23]\n"
     ]
    },
    {
     "ename": "AttributeError",
     "evalue": "'MaxHeap' object has no attribute 'retrieve_max'",
     "output_type": "error",
     "traceback": [
      "\u001b[1;31m---------------------------------------------------------------------------\u001b[0m",
      "\u001b[1;31mAttributeError\u001b[0m                            Traceback (most recent call last)",
      "\u001b[1;32m~\\AppData\\Local\\Temp/ipykernel_21524/3588760389.py\u001b[0m in \u001b[0;36m<module>\u001b[1;34m\u001b[0m\n\u001b[0;32m     12\u001b[0m \u001b[1;33m\u001b[0m\u001b[0m\n\u001b[0;32m     13\u001b[0m \u001b[0mmy_list\u001b[0m \u001b[1;33m=\u001b[0m \u001b[1;33m[\u001b[0m\u001b[1;36m99\u001b[0m\u001b[1;33m,\u001b[0m \u001b[1;36m22\u001b[0m\u001b[1;33m,\u001b[0m \u001b[1;36m61\u001b[0m\u001b[1;33m,\u001b[0m \u001b[1;36m10\u001b[0m\u001b[1;33m,\u001b[0m \u001b[1;36m21\u001b[0m\u001b[1;33m,\u001b[0m \u001b[1;36m13\u001b[0m\u001b[1;33m,\u001b[0m \u001b[1;36m23\u001b[0m\u001b[1;33m]\u001b[0m\u001b[1;33m\u001b[0m\u001b[1;33m\u001b[0m\u001b[0m\n\u001b[1;32m---> 14\u001b[1;33m \u001b[0msorted_list\u001b[0m \u001b[1;33m=\u001b[0m \u001b[0mheapsort\u001b[0m\u001b[1;33m(\u001b[0m\u001b[0mmy_list\u001b[0m\u001b[1;33m)\u001b[0m\u001b[1;33m\u001b[0m\u001b[1;33m\u001b[0m\u001b[0m\n\u001b[0m\u001b[0;32m     15\u001b[0m \u001b[0mprint\u001b[0m\u001b[1;33m(\u001b[0m\u001b[0msorted_list\u001b[0m\u001b[1;33m)\u001b[0m\u001b[1;33m\u001b[0m\u001b[1;33m\u001b[0m\u001b[0m\n",
      "\u001b[1;32m~\\AppData\\Local\\Temp/ipykernel_21524/3588760389.py\u001b[0m in \u001b[0;36mheapsort\u001b[1;34m(lst)\u001b[0m\n\u001b[0;32m      7\u001b[0m     \u001b[0mmax_heap\u001b[0m\u001b[1;33m.\u001b[0m\u001b[0madd\u001b[0m\u001b[1;33m(\u001b[0m\u001b[0midx\u001b[0m\u001b[1;33m)\u001b[0m\u001b[1;33m\u001b[0m\u001b[1;33m\u001b[0m\u001b[0m\n\u001b[0;32m      8\u001b[0m   \u001b[1;32mwhile\u001b[0m \u001b[0mmax_heap\u001b[0m\u001b[1;33m.\u001b[0m\u001b[0mcount\u001b[0m \u001b[1;33m>\u001b[0m \u001b[1;36m0\u001b[0m\u001b[1;33m:\u001b[0m\u001b[1;33m\u001b[0m\u001b[1;33m\u001b[0m\u001b[0m\n\u001b[1;32m----> 9\u001b[1;33m     \u001b[0mmax_value\u001b[0m \u001b[1;33m=\u001b[0m \u001b[0mmax_heap\u001b[0m\u001b[1;33m.\u001b[0m\u001b[0mretrieve_max\u001b[0m\u001b[1;33m(\u001b[0m\u001b[1;33m)\u001b[0m\u001b[1;33m\u001b[0m\u001b[1;33m\u001b[0m\u001b[0m\n\u001b[0m\u001b[0;32m     10\u001b[0m     \u001b[0msort\u001b[0m\u001b[1;33m.\u001b[0m\u001b[0minsert\u001b[0m\u001b[1;33m(\u001b[0m\u001b[1;36m0\u001b[0m\u001b[1;33m,\u001b[0m \u001b[0mmax_value\u001b[0m\u001b[1;33m)\u001b[0m\u001b[1;33m\u001b[0m\u001b[1;33m\u001b[0m\u001b[0m\n\u001b[0;32m     11\u001b[0m   \u001b[1;32mreturn\u001b[0m \u001b[0msort\u001b[0m\u001b[1;33m\u001b[0m\u001b[1;33m\u001b[0m\u001b[0m\n",
      "\u001b[1;31mAttributeError\u001b[0m: 'MaxHeap' object has no attribute 'retrieve_max'"
     ]
    }
   ],
   "source": [
    "from max_heap import MaxHeap \n",
    "\n",
    "def heapsort(lst):\n",
    "  sort = []\n",
    "  max_heap = MaxHeap()\n",
    "  for idx in lst:\n",
    "    max_heap.add(idx)\n",
    "  while max_heap.count > 0:\n",
    "    max_value = max_heap.retrieve_max()\n",
    "    sort.insert(0, max_value)\n",
    "  return sort\n",
    "\n",
    "my_list = [99, 22, 61, 10, 21, 13, 23]\n",
    "sorted_list = heapsort(my_list)\n",
    "print(sorted_list)"
   ]
  }
 ],
 "metadata": {
  "interpreter": {
   "hash": "73c7822d59a7f19048bcb8d1d48edb56502e79c2df4b59ec3fbde37f04654ca5"
  },
  "kernelspec": {
   "display_name": "Python 3.9.6 64-bit",
   "language": "python",
   "name": "python3"
  },
  "language_info": {
   "codemirror_mode": {
    "name": "ipython",
    "version": 3
   },
   "file_extension": ".py",
   "mimetype": "text/x-python",
   "name": "python",
   "nbconvert_exporter": "python",
   "pygments_lexer": "ipython3",
   "version": "3.9.6"
  },
  "orig_nbformat": 4
 },
 "nbformat": 4,
 "nbformat_minor": 2
}
